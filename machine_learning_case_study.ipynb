{
 "cells": [
  {
   "cell_type": "code",
   "execution_count": 79,
   "id": "8c5cb00b",
   "metadata": {},
   "outputs": [],
   "source": [
    "import os\n",
    "import pandas as pd\n",
    "import numpy as np\n",
    "\n",
    "from sklearn.linear_model import LogisticRegression\n",
    "#import matplotlib.pyplot as plt \n",
    "#from sklearn.linear_model import LinearRegression\n",
    "from sklearn.model_selection import cross_validate\n",
    "#import seaborn as sns\n",
    "#import numpy as np\n",
    "from sklearn.model_selection import learning_curve\n",
    "from sklearn.model_selection import train_test_split\n",
    "\n",
    "import pickle"
   ]
  },
  {
   "cell_type": "code",
   "execution_count": 5,
   "id": "4a1c064a",
   "metadata": {},
   "outputs": [
    {
     "data": {
      "text/plain": [
       "'/home/chibidao/code/ChiiDao/20221220-MLOPS_exercise'"
      ]
     },
     "execution_count": 5,
     "metadata": {},
     "output_type": "execute_result"
    }
   ],
   "source": [
    "os.getcwd()"
   ]
  },
  {
   "cell_type": "code",
   "execution_count": 43,
   "id": "79c761e1",
   "metadata": {},
   "outputs": [
    {
     "data": {
      "text/html": [
       "<div>\n",
       "<style scoped>\n",
       "    .dataframe tbody tr th:only-of-type {\n",
       "        vertical-align: middle;\n",
       "    }\n",
       "\n",
       "    .dataframe tbody tr th {\n",
       "        vertical-align: top;\n",
       "    }\n",
       "\n",
       "    .dataframe thead th {\n",
       "        text-align: right;\n",
       "    }\n",
       "</style>\n",
       "<table border=\"1\" class=\"dataframe\">\n",
       "  <thead>\n",
       "    <tr style=\"text-align: right;\">\n",
       "      <th></th>\n",
       "      <th>uuid</th>\n",
       "      <th>default</th>\n",
       "      <th>account_amount_added_12_24m</th>\n",
       "      <th>account_days_in_dc_12_24m</th>\n",
       "      <th>account_days_in_rem_12_24m</th>\n",
       "      <th>account_days_in_term_12_24m</th>\n",
       "      <th>account_incoming_debt_vs_paid_0_24m</th>\n",
       "      <th>account_status</th>\n",
       "      <th>account_worst_status_0_3m</th>\n",
       "      <th>account_worst_status_12_24m</th>\n",
       "      <th>...</th>\n",
       "      <th>status_3rd_last_archived_0_24m</th>\n",
       "      <th>status_max_archived_0_6_months</th>\n",
       "      <th>status_max_archived_0_12_months</th>\n",
       "      <th>status_max_archived_0_24_months</th>\n",
       "      <th>recovery_debt</th>\n",
       "      <th>sum_capital_paid_account_0_12m</th>\n",
       "      <th>sum_capital_paid_account_12_24m</th>\n",
       "      <th>sum_paid_inv_0_12m</th>\n",
       "      <th>time_hours</th>\n",
       "      <th>worst_status_active_inv</th>\n",
       "    </tr>\n",
       "  </thead>\n",
       "  <tbody>\n",
       "    <tr>\n",
       "      <th>0</th>\n",
       "      <td>63f69b2c-8b1c-4740-b78d-52ed9a4515ac</td>\n",
       "      <td>0.0</td>\n",
       "      <td>0</td>\n",
       "      <td>0.0</td>\n",
       "      <td>0.0</td>\n",
       "      <td>0.0</td>\n",
       "      <td>0</td>\n",
       "      <td>1.0</td>\n",
       "      <td>1.0</td>\n",
       "      <td>NaN</td>\n",
       "      <td>...</td>\n",
       "      <td>1</td>\n",
       "      <td>1</td>\n",
       "      <td>1</td>\n",
       "      <td>1</td>\n",
       "      <td>0</td>\n",
       "      <td>0</td>\n",
       "      <td>0</td>\n",
       "      <td>178839</td>\n",
       "      <td>9.653333</td>\n",
       "      <td>1.0</td>\n",
       "    </tr>\n",
       "    <tr>\n",
       "      <th>1</th>\n",
       "      <td>0e961183-8c15-4470-9a5e-07a1bd207661</td>\n",
       "      <td>0.0</td>\n",
       "      <td>0</td>\n",
       "      <td>0.0</td>\n",
       "      <td>0.0</td>\n",
       "      <td>0.0</td>\n",
       "      <td>NaN</td>\n",
       "      <td>1.0</td>\n",
       "      <td>1.0</td>\n",
       "      <td>1.0</td>\n",
       "      <td>...</td>\n",
       "      <td>1</td>\n",
       "      <td>1</td>\n",
       "      <td>2</td>\n",
       "      <td>2</td>\n",
       "      <td>0</td>\n",
       "      <td>0</td>\n",
       "      <td>0</td>\n",
       "      <td>49014</td>\n",
       "      <td>13.181389</td>\n",
       "      <td>NaN</td>\n",
       "    </tr>\n",
       "    <tr>\n",
       "      <th>2</th>\n",
       "      <td>d8edaae6-4368-44e0-941e-8328f203e64e</td>\n",
       "      <td>0.0</td>\n",
       "      <td>0</td>\n",
       "      <td>0.0</td>\n",
       "      <td>0.0</td>\n",
       "      <td>0.0</td>\n",
       "      <td>NaN</td>\n",
       "      <td>NaN</td>\n",
       "      <td>NaN</td>\n",
       "      <td>NaN</td>\n",
       "      <td>...</td>\n",
       "      <td>1</td>\n",
       "      <td>1</td>\n",
       "      <td>2</td>\n",
       "      <td>2</td>\n",
       "      <td>0</td>\n",
       "      <td>0</td>\n",
       "      <td>0</td>\n",
       "      <td>124839</td>\n",
       "      <td>11.561944</td>\n",
       "      <td>1.0</td>\n",
       "    </tr>\n",
       "    <tr>\n",
       "      <th>3</th>\n",
       "      <td>0095dfb6-a886-4e2a-b056-15ef45fdb0ef</td>\n",
       "      <td>0.0</td>\n",
       "      <td>0</td>\n",
       "      <td>NaN</td>\n",
       "      <td>NaN</td>\n",
       "      <td>NaN</td>\n",
       "      <td>NaN</td>\n",
       "      <td>NaN</td>\n",
       "      <td>NaN</td>\n",
       "      <td>NaN</td>\n",
       "      <td>...</td>\n",
       "      <td>1</td>\n",
       "      <td>1</td>\n",
       "      <td>1</td>\n",
       "      <td>1</td>\n",
       "      <td>0</td>\n",
       "      <td>0</td>\n",
       "      <td>0</td>\n",
       "      <td>324676</td>\n",
       "      <td>15.751111</td>\n",
       "      <td>1.0</td>\n",
       "    </tr>\n",
       "    <tr>\n",
       "      <th>4</th>\n",
       "      <td>c8f8b835-5647-4506-bf15-49105d8af30b</td>\n",
       "      <td>0.0</td>\n",
       "      <td>0</td>\n",
       "      <td>0.0</td>\n",
       "      <td>0.0</td>\n",
       "      <td>0.0</td>\n",
       "      <td>NaN</td>\n",
       "      <td>NaN</td>\n",
       "      <td>NaN</td>\n",
       "      <td>NaN</td>\n",
       "      <td>...</td>\n",
       "      <td>0</td>\n",
       "      <td>1</td>\n",
       "      <td>1</td>\n",
       "      <td>1</td>\n",
       "      <td>0</td>\n",
       "      <td>0</td>\n",
       "      <td>0</td>\n",
       "      <td>7100</td>\n",
       "      <td>12.698611</td>\n",
       "      <td>NaN</td>\n",
       "    </tr>\n",
       "  </tbody>\n",
       "</table>\n",
       "<p>5 rows × 43 columns</p>\n",
       "</div>"
      ],
      "text/plain": [
       "                                   uuid  default  account_amount_added_12_24m  \\\n",
       "0  63f69b2c-8b1c-4740-b78d-52ed9a4515ac      0.0                            0   \n",
       "1  0e961183-8c15-4470-9a5e-07a1bd207661      0.0                            0   \n",
       "2  d8edaae6-4368-44e0-941e-8328f203e64e      0.0                            0   \n",
       "3  0095dfb6-a886-4e2a-b056-15ef45fdb0ef      0.0                            0   \n",
       "4  c8f8b835-5647-4506-bf15-49105d8af30b      0.0                            0   \n",
       "\n",
       "   account_days_in_dc_12_24m  account_days_in_rem_12_24m  \\\n",
       "0                        0.0                         0.0   \n",
       "1                        0.0                         0.0   \n",
       "2                        0.0                         0.0   \n",
       "3                        NaN                         NaN   \n",
       "4                        0.0                         0.0   \n",
       "\n",
       "   account_days_in_term_12_24m account_incoming_debt_vs_paid_0_24m  \\\n",
       "0                          0.0                                   0   \n",
       "1                          0.0                                 NaN   \n",
       "2                          0.0                                 NaN   \n",
       "3                          NaN                                 NaN   \n",
       "4                          0.0                                 NaN   \n",
       "\n",
       "   account_status  account_worst_status_0_3m  account_worst_status_12_24m  \\\n",
       "0             1.0                        1.0                          NaN   \n",
       "1             1.0                        1.0                          1.0   \n",
       "2             NaN                        NaN                          NaN   \n",
       "3             NaN                        NaN                          NaN   \n",
       "4             NaN                        NaN                          NaN   \n",
       "\n",
       "   ...  status_3rd_last_archived_0_24m  status_max_archived_0_6_months  \\\n",
       "0  ...                               1                               1   \n",
       "1  ...                               1                               1   \n",
       "2  ...                               1                               1   \n",
       "3  ...                               1                               1   \n",
       "4  ...                               0                               1   \n",
       "\n",
       "   status_max_archived_0_12_months  status_max_archived_0_24_months  \\\n",
       "0                                1                                1   \n",
       "1                                2                                2   \n",
       "2                                2                                2   \n",
       "3                                1                                1   \n",
       "4                                1                                1   \n",
       "\n",
       "   recovery_debt sum_capital_paid_account_0_12m  \\\n",
       "0              0                              0   \n",
       "1              0                              0   \n",
       "2              0                              0   \n",
       "3              0                              0   \n",
       "4              0                              0   \n",
       "\n",
       "  sum_capital_paid_account_12_24m  sum_paid_inv_0_12m time_hours  \\\n",
       "0                               0              178839   9.653333   \n",
       "1                               0               49014  13.181389   \n",
       "2                               0              124839  11.561944   \n",
       "3                               0              324676  15.751111   \n",
       "4                               0                7100  12.698611   \n",
       "\n",
       "  worst_status_active_inv  \n",
       "0                     1.0  \n",
       "1                     NaN  \n",
       "2                     1.0  \n",
       "3                     1.0  \n",
       "4                     NaN  \n",
       "\n",
       "[5 rows x 43 columns]"
      ]
     },
     "execution_count": 43,
     "metadata": {},
     "output_type": "execute_result"
    }
   ],
   "source": [
    "data_path = os.path.join(\"data\", \"dataset_2.csv\")\n",
    "data = pd.read_csv(data_path, sep=\";\", low_memory=False)\n",
    "data.head()"
   ]
  },
  {
   "cell_type": "code",
   "execution_count": 44,
   "id": "59598315",
   "metadata": {},
   "outputs": [
    {
     "data": {
      "text/plain": [
       "(99976, 43)"
      ]
     },
     "execution_count": 44,
     "metadata": {},
     "output_type": "execute_result"
    }
   ],
   "source": [
    "data.shape"
   ]
  },
  {
   "cell_type": "code",
   "execution_count": 24,
   "id": "3cf6d41c",
   "metadata": {},
   "outputs": [
    {
     "data": {
      "text/plain": [
       "Index(['uuid', 'default', 'account_amount_added_12_24m',\n",
       "       'account_days_in_dc_12_24m', 'account_days_in_rem_12_24m',\n",
       "       'account_days_in_term_12_24m', 'account_incoming_debt_vs_paid_0_24m',\n",
       "       'account_status', 'account_worst_status_0_3m',\n",
       "       'account_worst_status_12_24m', 'account_worst_status_3_6m',\n",
       "       'account_worst_status_6_12m', 'age', 'avg_payment_span_0_12m',\n",
       "       'avg_payment_span_0_3m', 'merchant_category', 'merchant_group',\n",
       "       'has_paid', 'max_paid_inv_0_12m', 'max_paid_inv_0_24m', 'name_in_email',\n",
       "       'num_active_div_by_paid_inv_0_12m', 'num_active_inv',\n",
       "       'num_arch_dc_0_12m', 'num_arch_dc_12_24m', 'num_arch_ok_0_12m',\n",
       "       'num_arch_ok_12_24m', 'num_arch_rem_0_12m',\n",
       "       'num_arch_written_off_0_12m', 'num_arch_written_off_12_24m',\n",
       "       'num_unpaid_bills', 'status_last_archived_0_24m',\n",
       "       'status_2nd_last_archived_0_24m', 'status_3rd_last_archived_0_24m',\n",
       "       'status_max_archived_0_6_months', 'status_max_archived_0_12_months',\n",
       "       'status_max_archived_0_24_months', 'recovery_debt',\n",
       "       'sum_capital_paid_account_0_12m', 'sum_capital_paid_account_12_24m',\n",
       "       'sum_paid_inv_0_12m', 'time_hours', 'worst_status_active_inv'],\n",
       "      dtype='object')"
      ]
     },
     "execution_count": 24,
     "metadata": {},
     "output_type": "execute_result"
    }
   ],
   "source": [
    "data.keys()"
   ]
  },
  {
   "cell_type": "code",
   "execution_count": 45,
   "id": "c8bc546c",
   "metadata": {},
   "outputs": [
    {
     "data": {
      "text/plain": [
       "0.0    88688\n",
       "1.0     1288\n",
       "Name: default, dtype: int64"
      ]
     },
     "execution_count": 45,
     "metadata": {},
     "output_type": "execute_result"
    }
   ],
   "source": [
    "data['default'].value_counts()"
   ]
  },
  {
   "cell_type": "code",
   "execution_count": 53,
   "id": "11ef4003",
   "metadata": {},
   "outputs": [
    {
     "data": {
      "text/plain": [
       "(89976, 4)"
      ]
     },
     "execution_count": 53,
     "metadata": {},
     "output_type": "execute_result"
    }
   ],
   "source": [
    "data_reduced = data[['uuid','sum_paid_inv_0_12m', 'time_hours','default']].dropna()\n",
    "data_reduced.shape"
   ]
  },
  {
   "cell_type": "code",
   "execution_count": 64,
   "id": "1bdf795a",
   "metadata": {},
   "outputs": [],
   "source": [
    "X = data_reduced[['sum_paid_inv_0_12m', 'time_hours']]\n",
    "y = data_reduced['default']"
   ]
  },
  {
   "cell_type": "code",
   "execution_count": 65,
   "id": "a541fc80",
   "metadata": {},
   "outputs": [
    {
     "data": {
      "text/plain": [
       "uuid                   object\n",
       "sum_paid_inv_0_12m      int64\n",
       "time_hours            float64\n",
       "default               float64\n",
       "dtype: object"
      ]
     },
     "execution_count": 65,
     "metadata": {},
     "output_type": "execute_result"
    }
   ],
   "source": [
    "data_reduced.dtypes"
   ]
  },
  {
   "cell_type": "code",
   "execution_count": 66,
   "id": "9e73cb09",
   "metadata": {},
   "outputs": [
    {
     "data": {
      "text/plain": [
       "0.0    88688\n",
       "1.0     1288\n",
       "Name: default, dtype: int64"
      ]
     },
     "execution_count": 66,
     "metadata": {},
     "output_type": "execute_result"
    }
   ],
   "source": [
    "y.value_counts()"
   ]
  },
  {
   "cell_type": "code",
   "execution_count": 67,
   "id": "be553b57",
   "metadata": {},
   "outputs": [],
   "source": [
    "model = LogisticRegression()\n",
    "\n",
    "# 10-Fold Cross validate model\n",
    "cv_results = cross_validate(model, X, y, cv=10)"
   ]
  },
  {
   "cell_type": "code",
   "execution_count": 68,
   "id": "98de36f1",
   "metadata": {},
   "outputs": [
    {
     "data": {
      "text/plain": [
       "0.9856850730145087"
      ]
     },
     "execution_count": 68,
     "metadata": {},
     "output_type": "execute_result"
    }
   ],
   "source": [
    "accuracy = cv_results['test_score'].mean()\n",
    "accuracy"
   ]
  },
  {
   "cell_type": "code",
   "execution_count": null,
   "id": "8b834a93",
   "metadata": {},
   "outputs": [],
   "source": [
    "# # create the training size slices\n",
    "# train_sizes = np.linspace(1000, 71980, 10000, dtype='int')\n",
    "\n",
    "# # Get train scores, train sizes, and validation scores using `learning_curve`, r2 score\n",
    "# train_sizes, train_scores, test_scores = learning_curve(estimator = LogisticRegression(),\n",
    "#                                                               X = X, \n",
    "#                                                               y = y, \n",
    "#                                                               train_sizes = train_sizes, \n",
    "#                                                               cv = 5)\n",
    "\n",
    "# # Take the mean of cross-validated train scores and validation scores\n",
    "# train_scores_mean = np.mean(train_scores, axis=1)\n",
    "# test_scores_mean = np.mean(test_scores, axis=1)\n",
    "\n",
    "# # Plot the learning curves!\n",
    "# plt.figure(figsize=(10,6))\n",
    "# plt.plot(train_sizes, train_scores_mean, label = 'training score')\n",
    "# plt.plot(train_sizes, test_scores_mean, label = 'test score')\n",
    "# plt.ylabel('r2 score', fontsize = 14)\n",
    "# plt.xlabel('Training set size', fontsize = 14)\n",
    "# plt.title('Learning curves', fontsize = 18, y = 1.03)\n",
    "# plt.legend();"
   ]
  },
  {
   "cell_type": "code",
   "execution_count": 77,
   "id": "700591bf",
   "metadata": {},
   "outputs": [
    {
     "data": {
      "text/html": [
       "<style>#sk-container-id-1 {color: black;background-color: white;}#sk-container-id-1 pre{padding: 0;}#sk-container-id-1 div.sk-toggleable {background-color: white;}#sk-container-id-1 label.sk-toggleable__label {cursor: pointer;display: block;width: 100%;margin-bottom: 0;padding: 0.3em;box-sizing: border-box;text-align: center;}#sk-container-id-1 label.sk-toggleable__label-arrow:before {content: \"▸\";float: left;margin-right: 0.25em;color: #696969;}#sk-container-id-1 label.sk-toggleable__label-arrow:hover:before {color: black;}#sk-container-id-1 div.sk-estimator:hover label.sk-toggleable__label-arrow:before {color: black;}#sk-container-id-1 div.sk-toggleable__content {max-height: 0;max-width: 0;overflow: hidden;text-align: left;background-color: #f0f8ff;}#sk-container-id-1 div.sk-toggleable__content pre {margin: 0.2em;color: black;border-radius: 0.25em;background-color: #f0f8ff;}#sk-container-id-1 input.sk-toggleable__control:checked~div.sk-toggleable__content {max-height: 200px;max-width: 100%;overflow: auto;}#sk-container-id-1 input.sk-toggleable__control:checked~label.sk-toggleable__label-arrow:before {content: \"▾\";}#sk-container-id-1 div.sk-estimator input.sk-toggleable__control:checked~label.sk-toggleable__label {background-color: #d4ebff;}#sk-container-id-1 div.sk-label input.sk-toggleable__control:checked~label.sk-toggleable__label {background-color: #d4ebff;}#sk-container-id-1 input.sk-hidden--visually {border: 0;clip: rect(1px 1px 1px 1px);clip: rect(1px, 1px, 1px, 1px);height: 1px;margin: -1px;overflow: hidden;padding: 0;position: absolute;width: 1px;}#sk-container-id-1 div.sk-estimator {font-family: monospace;background-color: #f0f8ff;border: 1px dotted black;border-radius: 0.25em;box-sizing: border-box;margin-bottom: 0.5em;}#sk-container-id-1 div.sk-estimator:hover {background-color: #d4ebff;}#sk-container-id-1 div.sk-parallel-item::after {content: \"\";width: 100%;border-bottom: 1px solid gray;flex-grow: 1;}#sk-container-id-1 div.sk-label:hover label.sk-toggleable__label {background-color: #d4ebff;}#sk-container-id-1 div.sk-serial::before {content: \"\";position: absolute;border-left: 1px solid gray;box-sizing: border-box;top: 0;bottom: 0;left: 50%;z-index: 0;}#sk-container-id-1 div.sk-serial {display: flex;flex-direction: column;align-items: center;background-color: white;padding-right: 0.2em;padding-left: 0.2em;position: relative;}#sk-container-id-1 div.sk-item {position: relative;z-index: 1;}#sk-container-id-1 div.sk-parallel {display: flex;align-items: stretch;justify-content: center;background-color: white;position: relative;}#sk-container-id-1 div.sk-item::before, #sk-container-id-1 div.sk-parallel-item::before {content: \"\";position: absolute;border-left: 1px solid gray;box-sizing: border-box;top: 0;bottom: 0;left: 50%;z-index: -1;}#sk-container-id-1 div.sk-parallel-item {display: flex;flex-direction: column;z-index: 1;position: relative;background-color: white;}#sk-container-id-1 div.sk-parallel-item:first-child::after {align-self: flex-end;width: 50%;}#sk-container-id-1 div.sk-parallel-item:last-child::after {align-self: flex-start;width: 50%;}#sk-container-id-1 div.sk-parallel-item:only-child::after {width: 0;}#sk-container-id-1 div.sk-dashed-wrapped {border: 1px dashed gray;margin: 0 0.4em 0.5em 0.4em;box-sizing: border-box;padding-bottom: 0.4em;background-color: white;}#sk-container-id-1 div.sk-label label {font-family: monospace;font-weight: bold;display: inline-block;line-height: 1.2em;}#sk-container-id-1 div.sk-label-container {text-align: center;}#sk-container-id-1 div.sk-container {/* jupyter's `normalize.less` sets `[hidden] { display: none; }` but bootstrap.min.css set `[hidden] { display: none !important; }` so we also need the `!important` here to be able to override the default hidden behavior on the sphinx rendered scikit-learn.org. See: https://github.com/scikit-learn/scikit-learn/issues/21755 */display: inline-block !important;position: relative;}#sk-container-id-1 div.sk-text-repr-fallback {display: none;}</style><div id=\"sk-container-id-1\" class=\"sk-top-container\"><div class=\"sk-text-repr-fallback\"><pre>LogisticRegression()</pre><b>In a Jupyter environment, please rerun this cell to show the HTML representation or trust the notebook. <br />On GitHub, the HTML representation is unable to render, please try loading this page with nbviewer.org.</b></div><div class=\"sk-container\" hidden><div class=\"sk-item\"><div class=\"sk-estimator sk-toggleable\"><input class=\"sk-toggleable__control sk-hidden--visually\" id=\"sk-estimator-id-1\" type=\"checkbox\" checked><label for=\"sk-estimator-id-1\" class=\"sk-toggleable__label sk-toggleable__label-arrow\">LogisticRegression</label><div class=\"sk-toggleable__content\"><pre>LogisticRegression()</pre></div></div></div></div></div>"
      ],
      "text/plain": [
       "LogisticRegression()"
      ]
     },
     "execution_count": 77,
     "metadata": {},
     "output_type": "execute_result"
    }
   ],
   "source": [
    "#Training model\n",
    "X_train, X_test, y_train, y_test = train_test_split(X, y, test_size=0.3, random_state=1)\n",
    "model.fit(X_train, y_train)\n",
    "\n",
    "model.predict(X_test)"
   ]
  },
  {
   "cell_type": "code",
   "execution_count": 80,
   "id": "d0a28e79",
   "metadata": {},
   "outputs": [],
   "source": [
    "#Saving the model to disk\n",
    "filename = 'model/model.sav'\n",
    "pickle.dump(model, open(filename, 'wb'))"
   ]
  },
  {
   "cell_type": "code",
   "execution_count": 82,
   "id": "be339cc5",
   "metadata": {},
   "outputs": [
    {
     "name": "stdout",
     "output_type": "stream",
     "text": [
      "0.9858852295039454\n"
     ]
    }
   ],
   "source": [
    "# load the model from disk\n",
    "loaded_model = pickle.load(open(filename, 'rb'))\n",
    "result = loaded_model.score(X_test, y_test)\n",
    "print(result)"
   ]
  },
  {
   "cell_type": "code",
   "execution_count": 83,
   "id": "9c489b06",
   "metadata": {},
   "outputs": [
    {
     "data": {
      "text/html": [
       "<div>\n",
       "<style scoped>\n",
       "    .dataframe tbody tr th:only-of-type {\n",
       "        vertical-align: middle;\n",
       "    }\n",
       "\n",
       "    .dataframe tbody tr th {\n",
       "        vertical-align: top;\n",
       "    }\n",
       "\n",
       "    .dataframe thead th {\n",
       "        text-align: right;\n",
       "    }\n",
       "</style>\n",
       "<table border=\"1\" class=\"dataframe\">\n",
       "  <thead>\n",
       "    <tr style=\"text-align: right;\">\n",
       "      <th></th>\n",
       "      <th>sum_paid_inv_0_12m</th>\n",
       "      <th>time_hours</th>\n",
       "    </tr>\n",
       "  </thead>\n",
       "  <tbody>\n",
       "    <tr>\n",
       "      <th>19823</th>\n",
       "      <td>92027</td>\n",
       "      <td>20.267500</td>\n",
       "    </tr>\n",
       "    <tr>\n",
       "      <th>24159</th>\n",
       "      <td>16225</td>\n",
       "      <td>16.892222</td>\n",
       "    </tr>\n",
       "    <tr>\n",
       "      <th>50058</th>\n",
       "      <td>0</td>\n",
       "      <td>8.377222</td>\n",
       "    </tr>\n",
       "    <tr>\n",
       "      <th>55349</th>\n",
       "      <td>0</td>\n",
       "      <td>10.940278</td>\n",
       "    </tr>\n",
       "    <tr>\n",
       "      <th>42373</th>\n",
       "      <td>6580</td>\n",
       "      <td>16.805556</td>\n",
       "    </tr>\n",
       "  </tbody>\n",
       "</table>\n",
       "</div>"
      ],
      "text/plain": [
       "       sum_paid_inv_0_12m  time_hours\n",
       "19823               92027   20.267500\n",
       "24159               16225   16.892222\n",
       "50058                   0    8.377222\n",
       "55349                   0   10.940278\n",
       "42373                6580   16.805556"
      ]
     },
     "execution_count": 83,
     "metadata": {},
     "output_type": "execute_result"
    }
   ],
   "source": [
    "X_test.head()"
   ]
  }
 ],
 "metadata": {
  "kernelspec": {
   "display_name": "lewagon_current",
   "language": "python",
   "name": "python3"
  },
  "language_info": {
   "codemirror_mode": {
    "name": "ipython",
    "version": 3
   },
   "file_extension": ".py",
   "mimetype": "text/x-python",
   "name": "python",
   "nbconvert_exporter": "python",
   "pygments_lexer": "ipython3",
   "version": "3.10.6 (main, Dec 20 2022, 10:51:30) [GCC 9.4.0]"
  },
  "toc": {
   "base_numbering": 1,
   "nav_menu": {},
   "number_sections": true,
   "sideBar": true,
   "skip_h1_title": false,
   "title_cell": "Table of Contents",
   "title_sidebar": "Contents",
   "toc_cell": false,
   "toc_position": {},
   "toc_section_display": true,
   "toc_window_display": false
  },
  "vscode": {
   "interpreter": {
    "hash": "84fad5e72bf8c8a5d9a32164c118611bf443e92bf08df758fc5d81b8cb2d9564"
   }
  }
 },
 "nbformat": 4,
 "nbformat_minor": 5
}
